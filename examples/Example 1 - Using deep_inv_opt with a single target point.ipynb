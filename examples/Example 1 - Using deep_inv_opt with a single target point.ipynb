{
 "cells": [
  {
   "cell_type": "markdown",
   "metadata": {},
   "source": [
    "# Example 1: Using deep_inv_opt with a single target point"
   ]
  },
  {
   "cell_type": "code",
   "execution_count": 1,
   "metadata": {},
   "outputs": [],
   "source": [
    "# Copyright (C) to Yingcong Tan, Andrew Delong, Daria Terekhov. All Rights Reserved.\n",
    "\n",
    "import numpy as np\n",
    "import deep_inv_opt as io\n",
    "import deep_inv_opt.plot as iop\n",
    "\n",
    "import matplotlib\n",
    "import matplotlib.pyplot as plt\n",
    "matplotlib.rcParams['figure.max_open_warning'] = 0  # Let the plots flow!\n",
    "%matplotlib inline"
   ]
  },
  {
   "cell_type": "markdown",
   "metadata": {},
   "source": [
    "### Define a simple LP with 3 inequality constraints and 1 equality constraint"
   ]
  },
  {
   "cell_type": "code",
   "execution_count": 2,
   "metadata": {},
   "outputs": [
    {
     "data": {
      "image/png": "[encoded data removed]",
      "text/plain": [
       "<Figure size 400x400 with 1 Axes>"
      ]
     },
     "metadata": {
      "needs_background": "light"
     },
     "output_type": "display_data"
    }
   ],
   "source": [
    "# Define an LP instance. Each is just a torch.DoubleTensor object.\n",
    "c_init = io.tensor([[0.5],\n",
    "                    [0.5]])\n",
    "A_ub = io.tensor([[-1.0,  0.0],      # x1 >= 0\n",
    "                  [ 0.0, -1.0],      # x2 >= 0\n",
    "                  [ 2.0,  1.0]])     # 2*x1 + x2 <= 5\n",
    "b_ub = io.tensor([[ 0.0],\n",
    "                  [ 0.0],\n",
    "                  [ 5.0]])\n",
    "A_eq = io.tensor([[1.0, 2.0]])       # x1 + 2*x2 = 5\n",
    "b_eq = io.tensor([[5.0]])\n",
    "\n",
    "xylim = ((-0.5, 5.5), (-0.5, 5.5))\n",
    "iop.plot_linprog(c_init, A_ub, b_ub, A_eq, b_eq, xylim);"
   ]
  },
  {
   "cell_type": "markdown",
   "metadata": {},
   "source": [
    "### Run forward solver and plot the central path. Should output x*=(0.0, 2.5)"
   ]
  },
  {
   "cell_type": "code",
   "execution_count": 3,
   "metadata": {},
   "outputs": [
    {
     "name": "stdout",
     "output_type": "stream",
     "text": [
      "step 1\n",
      "d tensor([[1.0000],\n",
      "        [1.0000],\n",
      "        [0.1667]], dtype=torch.float64)\n"
     ]
    },
    {
     "data": {
      "text/plain": [
       "tensor([[2.0027e-05],\n",
       "        [2.5000e+00]], dtype=torch.float64)"
      ]
     },
     "execution_count": 3,
     "metadata": {},
     "output_type": "execute_result"
    },
    {
     "data": {
      "image/png": "[encoded data removed]",
      "text/plain": [
       "<Figure size 400x400 with 1 Axes>"
      ]
     },
     "metadata": {
      "needs_background": "light"
     },
     "output_type": "display_data"
    }
   ],
   "source": [
    "io.linprog(c_init, A_ub, b_ub, A_eq, b_eq,\n",
    "           callback=iop.linprog_path_plotter(xylim))"
   ]
  },
  {
   "cell_type": "markdown",
   "metadata": {},
   "source": [
    "### Learn \"c only\" (a new cost vector) that minimizes squared error with respect to a target x=(2.0, 2.0)"
   ]
  },
  {
   "cell_type": "code",
   "execution_count": null,
   "metadata": {},
   "outputs": [],
   "source": [
    "# Define a single point target\n",
    "x_target = io.tensor([[2.0],\n",
    "                      [2.0]])\n",
    "\n",
    "# Inverse solve for c only, and pull out just the new c vector from the result\n",
    "c, *_ = io.inverse_linprog(x_target, c_init, A_ub, b_ub, A_eq, b_eq)\n",
    "\n",
    "# Forward solve with the new c vector and plot the new central path\n",
    "io.linprog(c, A_ub, b_ub, A_eq, b_eq, callback=iop.linprog_path_plotter(xylim))\n",
    "plt.plot([2], [2], 'ok', markerfacecolor='none', markersize=10);"
   ]
  },
  {
   "cell_type": "markdown",
   "metadata": {},
   "source": [
    "### Same as above, but show progress by plotting the curent solution at every 20th step of inverse optimization"
   ]
  },
  {
   "cell_type": "code",
   "execution_count": null,
   "metadata": {
    "scrolled": false
   },
   "outputs": [],
   "source": [
    "c, *_ = io.inverse_linprog(x_target, c_init, A_ub, b_ub, A_eq, b_eq,\n",
    "                           callback=iop.inverse_linprog_step_plotter(xylim, frequency=20))"
   ]
  },
  {
   "cell_type": "markdown",
   "metadata": {},
   "source": [
    "### Learn \"c, A, b jointly\" so that the constraints can move closer to the target, too."
   ]
  },
  {
   "cell_type": "code",
   "execution_count": null,
   "metadata": {
    "scrolled": false
   },
   "outputs": [],
   "source": [
    "c, *_ = io.inverse_linprog(x_target, c_init, A_ub, b_ub, A_eq, b_eq,\n",
    "                           learn_rate_ub=io.tensor([[0.0],    # Constraint x1 >= 0 should stay fixed\n",
    "                                                    [0.0],    # Constraint x2 >= 0 should stay fixed\n",
    "                                                    [0.1]]),  # Constraint 2*x1 + x2 <= 5 is allowed to change\n",
    "                           learn_rate_eq=0.1,                 # Constraint x1 + 2*x2 = 5 is allowed to change\n",
    "                           callback=iop.inverse_linprog_step_plotter(xylim, frequency=20))"
   ]
  },
  {
   "cell_type": "code",
   "execution_count": null,
   "metadata": {},
   "outputs": [],
   "source": []
  }
 ],
 "metadata": {
  "kernelspec": {
   "display_name": "Python 3",
   "language": "python",
   "name": "python3"
  },
  "language_info": {
   "codemirror_mode": {
    "name": "ipython",
    "version": 3
   },
   "file_extension": ".py",
   "mimetype": "text/x-python",
   "name": "python",
   "nbconvert_exporter": "python",
   "pygments_lexer": "ipython3",
   "version": "3.7.3"
  }
 },
 "nbformat": 4,
 "nbformat_minor": 2
}
